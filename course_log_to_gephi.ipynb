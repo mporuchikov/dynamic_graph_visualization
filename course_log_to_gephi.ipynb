{
 "cells": [
  {
   "cell_type": "markdown",
   "metadata": {},
   "source": [
    "# Аннотация"
   ]
  },
  {
   "cell_type": "markdown",
   "metadata": {},
   "source": [
    "Скрипт формирует список узлов ***course_activity_nodes.csv*** и ребер ***course_activity_edges.csv*** на основе лог-файла электронного учебного курса для дальнейшей визуализации динамического графа в Gephi."
   ]
  },
  {
   "cell_type": "markdown",
   "metadata": {},
   "source": [
    "# Код"
   ]
  },
  {
   "cell_type": "markdown",
   "metadata": {},
   "source": [
    "## 1 Библиотеки"
   ]
  },
  {
   "cell_type": "code",
   "execution_count": 1,
   "metadata": {},
   "outputs": [],
   "source": [
    "import pandas as pd"
   ]
  },
  {
   "cell_type": "markdown",
   "metadata": {},
   "source": [
    "## 2 Исходный лог-файл"
   ]
  },
  {
   "cell_type": "code",
   "execution_count": 2,
   "metadata": {},
   "outputs": [],
   "source": [
    "df = pd.read_csv('course_activity_log.csv')"
   ]
  },
  {
   "cell_type": "code",
   "execution_count": 3,
   "metadata": {},
   "outputs": [
    {
     "data": {
      "text/plain": [
       "(1055, 3)"
      ]
     },
     "execution_count": 3,
     "metadata": {},
     "output_type": "execute_result"
    }
   ],
   "source": [
    "df.shape"
   ]
  },
  {
   "cell_type": "code",
   "execution_count": 4,
   "metadata": {},
   "outputs": [
    {
     "data": {
      "text/html": [
       "<div>\n",
       "<style scoped>\n",
       "    .dataframe tbody tr th:only-of-type {\n",
       "        vertical-align: middle;\n",
       "    }\n",
       "\n",
       "    .dataframe tbody tr th {\n",
       "        vertical-align: top;\n",
       "    }\n",
       "\n",
       "    .dataframe thead th {\n",
       "        text-align: right;\n",
       "    }\n",
       "</style>\n",
       "<table border=\"1\" class=\"dataframe\">\n",
       "  <thead>\n",
       "    <tr style=\"text-align: right;\">\n",
       "      <th></th>\n",
       "      <th>datetime</th>\n",
       "      <th>student</th>\n",
       "      <th>task</th>\n",
       "    </tr>\n",
       "  </thead>\n",
       "  <tbody>\n",
       "    <tr>\n",
       "      <th>0</th>\n",
       "      <td>2019-09-10 19:38</td>\n",
       "      <td>Олег</td>\n",
       "      <td>Самостоятельная работа №1. Задачи анализа данн...</td>\n",
       "    </tr>\n",
       "    <tr>\n",
       "      <th>1</th>\n",
       "      <td>2019-09-11 15:35</td>\n",
       "      <td>Надежда</td>\n",
       "      <td>Лабораторная работа №1. Python</td>\n",
       "    </tr>\n",
       "    <tr>\n",
       "      <th>2</th>\n",
       "      <td>2019-09-11 15:35</td>\n",
       "      <td>Надежда</td>\n",
       "      <td>Лабораторная работа №1. Python</td>\n",
       "    </tr>\n",
       "    <tr>\n",
       "      <th>3</th>\n",
       "      <td>2019-09-11 15:36</td>\n",
       "      <td>Степан</td>\n",
       "      <td>Лабораторная работа №1. Python</td>\n",
       "    </tr>\n",
       "    <tr>\n",
       "      <th>4</th>\n",
       "      <td>2019-09-11 15:36</td>\n",
       "      <td>Степан</td>\n",
       "      <td>Лабораторная работа №1. Python</td>\n",
       "    </tr>\n",
       "  </tbody>\n",
       "</table>\n",
       "</div>"
      ],
      "text/plain": [
       "           datetime  student  \\\n",
       "0  2019-09-10 19:38     Олег   \n",
       "1  2019-09-11 15:35  Надежда   \n",
       "2  2019-09-11 15:35  Надежда   \n",
       "3  2019-09-11 15:36   Степан   \n",
       "4  2019-09-11 15:36   Степан   \n",
       "\n",
       "                                                task  \n",
       "0  Самостоятельная работа №1. Задачи анализа данн...  \n",
       "1                     Лабораторная работа №1. Python  \n",
       "2                     Лабораторная работа №1. Python  \n",
       "3                     Лабораторная работа №1. Python  \n",
       "4                     Лабораторная работа №1. Python  "
      ]
     },
     "execution_count": 4,
     "metadata": {},
     "output_type": "execute_result"
    }
   ],
   "source": [
    "df.head(5)"
   ]
  },
  {
   "cell_type": "markdown",
   "metadata": {},
   "source": [
    "## 3 Расчет количества обращенй студентов к элементам учебного курса"
   ]
  },
  {
   "cell_type": "markdown",
   "metadata": {},
   "source": [
    "### Извлечение даты"
   ]
  },
  {
   "cell_type": "code",
   "execution_count": 5,
   "metadata": {},
   "outputs": [],
   "source": [
    "df['datetime'] = df['datetime'].str.slice(0,10)\n",
    "df.rename(columns={'datetime': 'date'}, inplace=True)"
   ]
  },
  {
   "cell_type": "code",
   "execution_count": 6,
   "metadata": {},
   "outputs": [
    {
     "data": {
      "text/html": [
       "<div>\n",
       "<style scoped>\n",
       "    .dataframe tbody tr th:only-of-type {\n",
       "        vertical-align: middle;\n",
       "    }\n",
       "\n",
       "    .dataframe tbody tr th {\n",
       "        vertical-align: top;\n",
       "    }\n",
       "\n",
       "    .dataframe thead th {\n",
       "        text-align: right;\n",
       "    }\n",
       "</style>\n",
       "<table border=\"1\" class=\"dataframe\">\n",
       "  <thead>\n",
       "    <tr style=\"text-align: right;\">\n",
       "      <th></th>\n",
       "      <th>date</th>\n",
       "      <th>student</th>\n",
       "      <th>task</th>\n",
       "    </tr>\n",
       "  </thead>\n",
       "  <tbody>\n",
       "    <tr>\n",
       "      <th>0</th>\n",
       "      <td>2019-09-10</td>\n",
       "      <td>Олег</td>\n",
       "      <td>Самостоятельная работа №1. Задачи анализа данн...</td>\n",
       "    </tr>\n",
       "    <tr>\n",
       "      <th>1</th>\n",
       "      <td>2019-09-11</td>\n",
       "      <td>Надежда</td>\n",
       "      <td>Лабораторная работа №1. Python</td>\n",
       "    </tr>\n",
       "    <tr>\n",
       "      <th>2</th>\n",
       "      <td>2019-09-11</td>\n",
       "      <td>Надежда</td>\n",
       "      <td>Лабораторная работа №1. Python</td>\n",
       "    </tr>\n",
       "    <tr>\n",
       "      <th>3</th>\n",
       "      <td>2019-09-11</td>\n",
       "      <td>Степан</td>\n",
       "      <td>Лабораторная работа №1. Python</td>\n",
       "    </tr>\n",
       "    <tr>\n",
       "      <th>4</th>\n",
       "      <td>2019-09-11</td>\n",
       "      <td>Степан</td>\n",
       "      <td>Лабораторная работа №1. Python</td>\n",
       "    </tr>\n",
       "  </tbody>\n",
       "</table>\n",
       "</div>"
      ],
      "text/plain": [
       "         date  student                                               task\n",
       "0  2019-09-10     Олег  Самостоятельная работа №1. Задачи анализа данн...\n",
       "1  2019-09-11  Надежда                     Лабораторная работа №1. Python\n",
       "2  2019-09-11  Надежда                     Лабораторная работа №1. Python\n",
       "3  2019-09-11   Степан                     Лабораторная работа №1. Python\n",
       "4  2019-09-11   Степан                     Лабораторная работа №1. Python"
      ]
     },
     "execution_count": 6,
     "metadata": {},
     "output_type": "execute_result"
    }
   ],
   "source": [
    "df.head(5)"
   ]
  },
  {
   "cell_type": "markdown",
   "metadata": {},
   "source": [
    "### Группировка и подсчет"
   ]
  },
  {
   "cell_type": "code",
   "execution_count": 7,
   "metadata": {},
   "outputs": [],
   "source": [
    "df_group = df.groupby(['date', 'student', 'task']).size().reset_index().rename(columns={0: 'number'})"
   ]
  },
  {
   "cell_type": "code",
   "execution_count": 8,
   "metadata": {},
   "outputs": [
    {
     "data": {
      "text/html": [
       "<div>\n",
       "<style scoped>\n",
       "    .dataframe tbody tr th:only-of-type {\n",
       "        vertical-align: middle;\n",
       "    }\n",
       "\n",
       "    .dataframe tbody tr th {\n",
       "        vertical-align: top;\n",
       "    }\n",
       "\n",
       "    .dataframe thead th {\n",
       "        text-align: right;\n",
       "    }\n",
       "</style>\n",
       "<table border=\"1\" class=\"dataframe\">\n",
       "  <thead>\n",
       "    <tr style=\"text-align: right;\">\n",
       "      <th></th>\n",
       "      <th>date</th>\n",
       "      <th>student</th>\n",
       "      <th>task</th>\n",
       "      <th>number</th>\n",
       "    </tr>\n",
       "  </thead>\n",
       "  <tbody>\n",
       "    <tr>\n",
       "      <th>0</th>\n",
       "      <td>2019-09-10</td>\n",
       "      <td>Олег</td>\n",
       "      <td>Самостоятельная работа №1. Задачи анализа данн...</td>\n",
       "      <td>1</td>\n",
       "    </tr>\n",
       "    <tr>\n",
       "      <th>1</th>\n",
       "      <td>2019-09-11</td>\n",
       "      <td>Дмитрий</td>\n",
       "      <td>Лабораторная работа №1. Python</td>\n",
       "      <td>6</td>\n",
       "    </tr>\n",
       "    <tr>\n",
       "      <th>2</th>\n",
       "      <td>2019-09-11</td>\n",
       "      <td>Екатерина</td>\n",
       "      <td>Лабораторная работа №1. Python</td>\n",
       "      <td>6</td>\n",
       "    </tr>\n",
       "    <tr>\n",
       "      <th>3</th>\n",
       "      <td>2019-09-11</td>\n",
       "      <td>Кирилл</td>\n",
       "      <td>Лабораторная работа №1. Python</td>\n",
       "      <td>6</td>\n",
       "    </tr>\n",
       "    <tr>\n",
       "      <th>4</th>\n",
       "      <td>2019-09-11</td>\n",
       "      <td>Надежда</td>\n",
       "      <td>Лабораторная работа №1. Python</td>\n",
       "      <td>6</td>\n",
       "    </tr>\n",
       "  </tbody>\n",
       "</table>\n",
       "</div>"
      ],
      "text/plain": [
       "         date    student                                               task  \\\n",
       "0  2019-09-10       Олег  Самостоятельная работа №1. Задачи анализа данн...   \n",
       "1  2019-09-11    Дмитрий                     Лабораторная работа №1. Python   \n",
       "2  2019-09-11  Екатерина                     Лабораторная работа №1. Python   \n",
       "3  2019-09-11     Кирилл                     Лабораторная работа №1. Python   \n",
       "4  2019-09-11    Надежда                     Лабораторная работа №1. Python   \n",
       "\n",
       "   number  \n",
       "0       1  \n",
       "1       6  \n",
       "2       6  \n",
       "3       6  \n",
       "4       6  "
      ]
     },
     "execution_count": 8,
     "metadata": {},
     "output_type": "execute_result"
    }
   ],
   "source": [
    "df_group.head()"
   ]
  },
  {
   "cell_type": "markdown",
   "metadata": {},
   "source": [
    "## Формирование списка вершин"
   ]
  },
  {
   "cell_type": "code",
   "execution_count": 9,
   "metadata": {},
   "outputs": [],
   "source": [
    "nodes = []"
   ]
  },
  {
   "cell_type": "code",
   "execution_count": 10,
   "metadata": {},
   "outputs": [
    {
     "data": {
      "text/plain": [
       "['Олег', 'Дмитрий', 'Екатерина', 'Кирилл', 'Надежда']"
      ]
     },
     "execution_count": 10,
     "metadata": {},
     "output_type": "execute_result"
    }
   ],
   "source": [
    "students = df_group['student'].unique().tolist()\n",
    "students[:5]"
   ]
  },
  {
   "cell_type": "code",
   "execution_count": 11,
   "metadata": {},
   "outputs": [
    {
     "data": {
      "text/plain": [
       "[('Олег', 'student'),\n",
       " ('Дмитрий', 'student'),\n",
       " ('Екатерина', 'student'),\n",
       " ('Кирилл', 'student'),\n",
       " ('Надежда', 'student')]"
      ]
     },
     "execution_count": 11,
     "metadata": {},
     "output_type": "execute_result"
    }
   ],
   "source": [
    "nodes.extend([(student, 'student') for student in students])\n",
    "nodes[:5]"
   ]
  },
  {
   "cell_type": "code",
   "execution_count": 12,
   "metadata": {},
   "outputs": [
    {
     "data": {
      "text/plain": [
       "['Самостоятельная работа №1. Задачи анализа данных и типы данных',\n",
       " 'Лабораторная работа №1. Python',\n",
       " 'Самостоятельная работа №2. Установка Anaconda',\n",
       " 'Лабораторная работа №2. Линейная алгебра и библиотека numpy',\n",
       " 'Лабораторная работа №3 (часть 1)']"
      ]
     },
     "execution_count": 12,
     "metadata": {},
     "output_type": "execute_result"
    }
   ],
   "source": [
    "tasks = df['task'].unique().tolist()\n",
    "tasks[:5]"
   ]
  },
  {
   "cell_type": "code",
   "execution_count": 13,
   "metadata": {},
   "outputs": [
    {
     "data": {
      "text/plain": [
       "[('Тест 5. Классификация', 'task'),\n",
       " ('Лабораторная работа №5 (часть 2)', 'task'),\n",
       " ('Тест 4. Регрессия', 'task'),\n",
       " ('Лабораторная работа №6. Разработка системы анализа данных', 'task'),\n",
       " ('Лабораторная работа №7. Разработка системы анализа данных (индивидуальный проект)',\n",
       "  'task')]"
      ]
     },
     "execution_count": 13,
     "metadata": {},
     "output_type": "execute_result"
    }
   ],
   "source": [
    "nodes.extend([(task, 'task') for task in tasks])\n",
    "nodes[-5:]"
   ]
  },
  {
   "cell_type": "code",
   "execution_count": 14,
   "metadata": {},
   "outputs": [],
   "source": [
    "df_nodes = pd.DataFrame(nodes, columns=['id', 'node_type'])"
   ]
  },
  {
   "cell_type": "code",
   "execution_count": 15,
   "metadata": {},
   "outputs": [
    {
     "data": {
      "text/plain": [
       "(23, 2)"
      ]
     },
     "execution_count": 15,
     "metadata": {},
     "output_type": "execute_result"
    }
   ],
   "source": [
    "df_nodes.shape"
   ]
  },
  {
   "cell_type": "code",
   "execution_count": 16,
   "metadata": {},
   "outputs": [
    {
     "data": {
      "text/html": [
       "<div>\n",
       "<style scoped>\n",
       "    .dataframe tbody tr th:only-of-type {\n",
       "        vertical-align: middle;\n",
       "    }\n",
       "\n",
       "    .dataframe tbody tr th {\n",
       "        vertical-align: top;\n",
       "    }\n",
       "\n",
       "    .dataframe thead th {\n",
       "        text-align: right;\n",
       "    }\n",
       "</style>\n",
       "<table border=\"1\" class=\"dataframe\">\n",
       "  <thead>\n",
       "    <tr style=\"text-align: right;\">\n",
       "      <th></th>\n",
       "      <th>id</th>\n",
       "      <th>node_type</th>\n",
       "    </tr>\n",
       "  </thead>\n",
       "  <tbody>\n",
       "    <tr>\n",
       "      <th>13</th>\n",
       "      <td>Лабораторная работа №2. Линейная алгебра и биб...</td>\n",
       "      <td>task</td>\n",
       "    </tr>\n",
       "    <tr>\n",
       "      <th>16</th>\n",
       "      <td>Лабораторная работа №4. Регрессия</td>\n",
       "      <td>task</td>\n",
       "    </tr>\n",
       "    <tr>\n",
       "      <th>15</th>\n",
       "      <td>Лабораторная работа №3 (часть 2)</td>\n",
       "      <td>task</td>\n",
       "    </tr>\n",
       "    <tr>\n",
       "      <th>17</th>\n",
       "      <td>Лабораторная работа №5 (часть 1)</td>\n",
       "      <td>task</td>\n",
       "    </tr>\n",
       "    <tr>\n",
       "      <th>7</th>\n",
       "      <td>Светлана</td>\n",
       "      <td>student</td>\n",
       "    </tr>\n",
       "  </tbody>\n",
       "</table>\n",
       "</div>"
      ],
      "text/plain": [
       "                                                   id node_type\n",
       "13  Лабораторная работа №2. Линейная алгебра и биб...      task\n",
       "16                  Лабораторная работа №4. Регрессия      task\n",
       "15                   Лабораторная работа №3 (часть 2)      task\n",
       "17                   Лабораторная работа №5 (часть 1)      task\n",
       "7                                            Светлана   student"
      ]
     },
     "execution_count": 16,
     "metadata": {},
     "output_type": "execute_result"
    }
   ],
   "source": [
    "df_nodes.sample(5)"
   ]
  },
  {
   "cell_type": "code",
   "execution_count": 17,
   "metadata": {},
   "outputs": [],
   "source": [
    "df_nodes.to_csv('course_activity_nodes.csv', index=False)"
   ]
  },
  {
   "cell_type": "markdown",
   "metadata": {},
   "source": [
    "## Формирование списка ребер с учетом динамики"
   ]
  },
  {
   "cell_type": "markdown",
   "metadata": {},
   "source": [
    "### Cписок ребер"
   ]
  },
  {
   "cell_type": "code",
   "execution_count": 18,
   "metadata": {},
   "outputs": [
    {
     "data": {
      "text/html": [
       "<div>\n",
       "<style scoped>\n",
       "    .dataframe tbody tr th:only-of-type {\n",
       "        vertical-align: middle;\n",
       "    }\n",
       "\n",
       "    .dataframe tbody tr th {\n",
       "        vertical-align: top;\n",
       "    }\n",
       "\n",
       "    .dataframe thead th {\n",
       "        text-align: right;\n",
       "    }\n",
       "</style>\n",
       "<table border=\"1\" class=\"dataframe\">\n",
       "  <thead>\n",
       "    <tr style=\"text-align: right;\">\n",
       "      <th></th>\n",
       "      <th>date</th>\n",
       "      <th>student</th>\n",
       "      <th>task</th>\n",
       "      <th>number</th>\n",
       "    </tr>\n",
       "  </thead>\n",
       "  <tbody>\n",
       "    <tr>\n",
       "      <th>0</th>\n",
       "      <td>2019-09-10</td>\n",
       "      <td>Олег</td>\n",
       "      <td>Самостоятельная работа №1. Задачи анализа данн...</td>\n",
       "      <td>1</td>\n",
       "    </tr>\n",
       "    <tr>\n",
       "      <th>1</th>\n",
       "      <td>2019-09-11</td>\n",
       "      <td>Дмитрий</td>\n",
       "      <td>Лабораторная работа №1. Python</td>\n",
       "      <td>6</td>\n",
       "    </tr>\n",
       "    <tr>\n",
       "      <th>2</th>\n",
       "      <td>2019-09-11</td>\n",
       "      <td>Екатерина</td>\n",
       "      <td>Лабораторная работа №1. Python</td>\n",
       "      <td>6</td>\n",
       "    </tr>\n",
       "    <tr>\n",
       "      <th>3</th>\n",
       "      <td>2019-09-11</td>\n",
       "      <td>Кирилл</td>\n",
       "      <td>Лабораторная работа №1. Python</td>\n",
       "      <td>6</td>\n",
       "    </tr>\n",
       "    <tr>\n",
       "      <th>4</th>\n",
       "      <td>2019-09-11</td>\n",
       "      <td>Надежда</td>\n",
       "      <td>Лабораторная работа №1. Python</td>\n",
       "      <td>6</td>\n",
       "    </tr>\n",
       "  </tbody>\n",
       "</table>\n",
       "</div>"
      ],
      "text/plain": [
       "         date    student                                               task  \\\n",
       "0  2019-09-10       Олег  Самостоятельная работа №1. Задачи анализа данн...   \n",
       "1  2019-09-11    Дмитрий                     Лабораторная работа №1. Python   \n",
       "2  2019-09-11  Екатерина                     Лабораторная работа №1. Python   \n",
       "3  2019-09-11     Кирилл                     Лабораторная работа №1. Python   \n",
       "4  2019-09-11    Надежда                     Лабораторная работа №1. Python   \n",
       "\n",
       "   number  \n",
       "0       1  \n",
       "1       6  \n",
       "2       6  \n",
       "3       6  \n",
       "4       6  "
      ]
     },
     "execution_count": 18,
     "metadata": {},
     "output_type": "execute_result"
    }
   ],
   "source": [
    "df_group.head()"
   ]
  },
  {
   "cell_type": "code",
   "execution_count": 19,
   "metadata": {},
   "outputs": [],
   "source": [
    "df_edges = df_group[['student', 'task']].drop_duplicates()"
   ]
  },
  {
   "cell_type": "code",
   "execution_count": 20,
   "metadata": {},
   "outputs": [
    {
     "data": {
      "text/html": [
       "<div>\n",
       "<style scoped>\n",
       "    .dataframe tbody tr th:only-of-type {\n",
       "        vertical-align: middle;\n",
       "    }\n",
       "\n",
       "    .dataframe tbody tr th {\n",
       "        vertical-align: top;\n",
       "    }\n",
       "\n",
       "    .dataframe thead th {\n",
       "        text-align: right;\n",
       "    }\n",
       "</style>\n",
       "<table border=\"1\" class=\"dataframe\">\n",
       "  <thead>\n",
       "    <tr style=\"text-align: right;\">\n",
       "      <th></th>\n",
       "      <th>student</th>\n",
       "      <th>task</th>\n",
       "    </tr>\n",
       "  </thead>\n",
       "  <tbody>\n",
       "    <tr>\n",
       "      <th>0</th>\n",
       "      <td>Олег</td>\n",
       "      <td>Самостоятельная работа №1. Задачи анализа данн...</td>\n",
       "    </tr>\n",
       "    <tr>\n",
       "      <th>1</th>\n",
       "      <td>Дмитрий</td>\n",
       "      <td>Лабораторная работа №1. Python</td>\n",
       "    </tr>\n",
       "    <tr>\n",
       "      <th>2</th>\n",
       "      <td>Екатерина</td>\n",
       "      <td>Лабораторная работа №1. Python</td>\n",
       "    </tr>\n",
       "    <tr>\n",
       "      <th>3</th>\n",
       "      <td>Кирилл</td>\n",
       "      <td>Лабораторная работа №1. Python</td>\n",
       "    </tr>\n",
       "    <tr>\n",
       "      <th>4</th>\n",
       "      <td>Надежда</td>\n",
       "      <td>Лабораторная работа №1. Python</td>\n",
       "    </tr>\n",
       "  </tbody>\n",
       "</table>\n",
       "</div>"
      ],
      "text/plain": [
       "     student                                               task\n",
       "0       Олег  Самостоятельная работа №1. Задачи анализа данн...\n",
       "1    Дмитрий                     Лабораторная работа №1. Python\n",
       "2  Екатерина                     Лабораторная работа №1. Python\n",
       "3     Кирилл                     Лабораторная работа №1. Python\n",
       "4    Надежда                     Лабораторная работа №1. Python"
      ]
     },
     "execution_count": 20,
     "metadata": {},
     "output_type": "execute_result"
    }
   ],
   "source": [
    "df_edges.head()"
   ]
  },
  {
   "cell_type": "markdown",
   "metadata": {},
   "source": [
    "### Добавление признаков динамики"
   ]
  },
  {
   "cell_type": "code",
   "execution_count": 21,
   "metadata": {},
   "outputs": [],
   "source": [
    "timestamps = []\n",
    "weights = []"
   ]
  },
  {
   "cell_type": "code",
   "execution_count": 22,
   "metadata": {},
   "outputs": [],
   "source": [
    "for _, edge in df_edges.iterrows():\n",
    "    df_selection = df_group[(df_group['student'] == edge['student']) & (df_group['task'] == edge['task'])][['date', 'number']]\n",
    "    data = df_selection.values.tolist()\n",
    "    str_timestamps = '<[' + ', '.join([rec[0] for rec in data]) + ']>'\n",
    "    str_weights = '<' + '; '.join(['[' + rec[0] + ', ' + str(rec[1]) + ']' for rec in data]) + '>'\n",
    "    timestamps.append(str_timestamps)\n",
    "    weights.append(str_weights)"
   ]
  },
  {
   "cell_type": "code",
   "execution_count": 23,
   "metadata": {},
   "outputs": [],
   "source": [
    "df_edges['timeset'] = timestamps\n",
    "df_edges['weight'] = weights"
   ]
  },
  {
   "cell_type": "code",
   "execution_count": 24,
   "metadata": {},
   "outputs": [],
   "source": [
    "df_edges.rename(columns={'student':'source', 'task':'target'}, inplace=True)\n",
    "df_edges.reset_index(drop=True, inplace=True)\n",
    "df_edges.index.name = 'id'"
   ]
  },
  {
   "cell_type": "code",
   "execution_count": 25,
   "metadata": {},
   "outputs": [
    {
     "data": {
      "text/html": [
       "<div>\n",
       "<style scoped>\n",
       "    .dataframe tbody tr th:only-of-type {\n",
       "        vertical-align: middle;\n",
       "    }\n",
       "\n",
       "    .dataframe tbody tr th {\n",
       "        vertical-align: top;\n",
       "    }\n",
       "\n",
       "    .dataframe thead th {\n",
       "        text-align: right;\n",
       "    }\n",
       "</style>\n",
       "<table border=\"1\" class=\"dataframe\">\n",
       "  <thead>\n",
       "    <tr style=\"text-align: right;\">\n",
       "      <th></th>\n",
       "      <th>source</th>\n",
       "      <th>target</th>\n",
       "      <th>timeset</th>\n",
       "      <th>weight</th>\n",
       "    </tr>\n",
       "    <tr>\n",
       "      <th>id</th>\n",
       "      <th></th>\n",
       "      <th></th>\n",
       "      <th></th>\n",
       "      <th></th>\n",
       "    </tr>\n",
       "  </thead>\n",
       "  <tbody>\n",
       "    <tr>\n",
       "      <th>0</th>\n",
       "      <td>Олег</td>\n",
       "      <td>Самостоятельная работа №1. Задачи анализа данн...</td>\n",
       "      <td>&lt;[2019-09-10, 2019-09-15]&gt;</td>\n",
       "      <td>&lt;[2019-09-10, 1]; [2019-09-15, 7]&gt;</td>\n",
       "    </tr>\n",
       "    <tr>\n",
       "      <th>1</th>\n",
       "      <td>Дмитрий</td>\n",
       "      <td>Лабораторная работа №1. Python</td>\n",
       "      <td>&lt;[2019-09-11, 2019-09-14]&gt;</td>\n",
       "      <td>&lt;[2019-09-11, 6]; [2019-09-14, 1]&gt;</td>\n",
       "    </tr>\n",
       "    <tr>\n",
       "      <th>2</th>\n",
       "      <td>Екатерина</td>\n",
       "      <td>Лабораторная работа №1. Python</td>\n",
       "      <td>&lt;[2019-09-11]&gt;</td>\n",
       "      <td>&lt;[2019-09-11, 6]&gt;</td>\n",
       "    </tr>\n",
       "    <tr>\n",
       "      <th>3</th>\n",
       "      <td>Кирилл</td>\n",
       "      <td>Лабораторная работа №1. Python</td>\n",
       "      <td>&lt;[2019-09-11, 2019-09-16, 2019-10-11, 2019-10-...</td>\n",
       "      <td>&lt;[2019-09-11, 6]; [2019-09-16, 1]; [2019-10-11...</td>\n",
       "    </tr>\n",
       "    <tr>\n",
       "      <th>4</th>\n",
       "      <td>Надежда</td>\n",
       "      <td>Лабораторная работа №1. Python</td>\n",
       "      <td>&lt;[2019-09-11]&gt;</td>\n",
       "      <td>&lt;[2019-09-11, 6]&gt;</td>\n",
       "    </tr>\n",
       "  </tbody>\n",
       "</table>\n",
       "</div>"
      ],
      "text/plain": [
       "       source                                             target  \\\n",
       "id                                                                 \n",
       "0        Олег  Самостоятельная работа №1. Задачи анализа данн...   \n",
       "1     Дмитрий                     Лабораторная работа №1. Python   \n",
       "2   Екатерина                     Лабораторная работа №1. Python   \n",
       "3      Кирилл                     Лабораторная работа №1. Python   \n",
       "4     Надежда                     Лабораторная работа №1. Python   \n",
       "\n",
       "                                              timeset  \\\n",
       "id                                                      \n",
       "0                          <[2019-09-10, 2019-09-15]>   \n",
       "1                          <[2019-09-11, 2019-09-14]>   \n",
       "2                                      <[2019-09-11]>   \n",
       "3   <[2019-09-11, 2019-09-16, 2019-10-11, 2019-10-...   \n",
       "4                                      <[2019-09-11]>   \n",
       "\n",
       "                                               weight  \n",
       "id                                                     \n",
       "0                  <[2019-09-10, 1]; [2019-09-15, 7]>  \n",
       "1                  <[2019-09-11, 6]; [2019-09-14, 1]>  \n",
       "2                                   <[2019-09-11, 6]>  \n",
       "3   <[2019-09-11, 6]; [2019-09-16, 1]; [2019-10-11...  \n",
       "4                                   <[2019-09-11, 6]>  "
      ]
     },
     "execution_count": 25,
     "metadata": {},
     "output_type": "execute_result"
    }
   ],
   "source": [
    "df_edges.head()"
   ]
  },
  {
   "cell_type": "code",
   "execution_count": 26,
   "metadata": {},
   "outputs": [],
   "source": [
    "df_edges.to_csv('course_activity_edges.csv')"
   ]
  },
  {
   "cell_type": "code",
   "execution_count": null,
   "metadata": {},
   "outputs": [],
   "source": []
  }
 ],
 "metadata": {
  "kernelspec": {
   "display_name": "Python 3",
   "language": "python",
   "name": "python3"
  },
  "language_info": {
   "codemirror_mode": {
    "name": "ipython",
    "version": 3
   },
   "file_extension": ".py",
   "mimetype": "text/x-python",
   "name": "python",
   "nbconvert_exporter": "python",
   "pygments_lexer": "ipython3",
   "version": "3.8.3"
  }
 },
 "nbformat": 4,
 "nbformat_minor": 4
}
